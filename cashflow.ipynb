{
 "cells": [
  {
   "cell_type": "markdown",
   "metadata": {},
   "source": [
    "# Cashflow"
   ]
  },
  {
   "cell_type": "markdown",
   "metadata": {},
   "source": [
    "## --------------------------------- CASHFLOW ----------------------------------\n",
    "## script for creating and manipulating personal cashflow \n",
    "## ---------------------------------------------------------------------------------------"
   ]
  },
  {
   "cell_type": "markdown",
   "metadata": {},
   "source": [
    "### Important information:\n",
    "##### This script assumes several details. Read them all and make the desired changes!\n",
    "\n",
    "### Source incomes considered:\n",
    "\n",
    "+ salary, bonuses, self_emp (self employed), freelance, gov_ben (government benefits),\n",
    "\n",
    "+ pension, retirement, others (put one keyword)\n",
    "\n",
    "### Source expenses considered:\n",
    "\n",
    "+ Fixed (type): rent, mobility, insurance, taxes, other_fixed\n",
    "\n",
    "+ Variable (type): groceries, utilities, medical care, education, maintenance, entertainament,\n",
    "\n",
    "+ eating out, other_variable"
   ]
  },
  {
   "cell_type": "markdown",
   "metadata": {},
   "source": [
    "#### Flow:\n",
    "\n",
    "1 - Income will be manipulated to create data\n",
    "\n",
    "2 - the same for expenses\n",
    "\n",
    "3 - Balance\n",
    "\n",
    "4 - Exporting files: xlsx files with the summary\n"
   ]
  },
  {
   "cell_type": "markdown",
   "metadata": {},
   "source": [
    "## 1. Income"
   ]
  },
  {
   "cell_type": "code",
   "execution_count": 1,
   "metadata": {},
   "outputs": [],
   "source": [
    "# packages/modules\n",
    "import pandas as pd\n",
    "import datetime"
   ]
  },
  {
   "cell_type": "markdown",
   "metadata": {},
   "source": [
    "### 1.1 Detailing the data: incomes"
   ]
  },
  {
   "cell_type": "code",
   "execution_count": 109,
   "metadata": {
    "scrolled": true
   },
   "outputs": [],
   "source": [
    "# read incomes\n",
    "inc = pd.read_csv('income.csv', delimiter=';')\n",
    "inc.head()\n",
    "\n",
    "# create auxiliar date column (but data refer to end of month)\n",
    "inc['date_op'] = pd.to_datetime(inc['year'].astype(str)  + inc['month'], format='%Y%B')\n",
    "# order by date:\n",
    "inc.sort_values('date_op', inplace=True)"
   ]
  },
  {
   "cell_type": "markdown",
   "metadata": {},
   "source": [
    "### 1.2 Managing the data - operations done with the income values"
   ]
  },
  {
   "cell_type": "code",
   "execution_count": 110,
   "metadata": {},
   "outputs": [
    {
     "data": {
      "text/html": [
       "<div>\n",
       "<style scoped>\n",
       "    .dataframe tbody tr th:only-of-type {\n",
       "        vertical-align: middle;\n",
       "    }\n",
       "\n",
       "    .dataframe tbody tr th {\n",
       "        vertical-align: top;\n",
       "    }\n",
       "\n",
       "    .dataframe thead th {\n",
       "        text-align: right;\n",
       "    }\n",
       "</style>\n",
       "<table border=\"1\" class=\"dataframe\">\n",
       "  <thead>\n",
       "    <tr style=\"text-align: right;\">\n",
       "      <th></th>\n",
       "      <th>year</th>\n",
       "      <th>value</th>\n",
       "    </tr>\n",
       "  </thead>\n",
       "  <tbody>\n",
       "    <tr>\n",
       "      <th>0</th>\n",
       "      <td>2018</td>\n",
       "      <td>47415</td>\n",
       "    </tr>\n",
       "    <tr>\n",
       "      <th>1</th>\n",
       "      <td>2019</td>\n",
       "      <td>48950</td>\n",
       "    </tr>\n",
       "  </tbody>\n",
       "</table>\n",
       "</div>"
      ],
      "text/plain": [
       "   year  value\n",
       "0  2018  47415\n",
       "1  2019  48950"
      ]
     },
     "execution_count": 110,
     "metadata": {},
     "output_type": "execute_result"
    }
   ],
   "source": [
    "# 1.2.1 Group incomes by date\n",
    "# Flow: by date; by source; all through year -> month\n",
    "\n",
    "# only by year first\n",
    "inc_date = inc.groupby([inc['year']], as_index=False)\n",
    "\n",
    "# operation:\n",
    "# total income per year\n",
    "inc_per_year = inc_date.sum()\n",
    "inc_per_year.head()"
   ]
  },
  {
   "cell_type": "code",
   "execution_count": 111,
   "metadata": {
    "scrolled": true
   },
   "outputs": [
    {
     "data": {
      "text/html": [
       "<div>\n",
       "<style scoped>\n",
       "    .dataframe tbody tr th:only-of-type {\n",
       "        vertical-align: middle;\n",
       "    }\n",
       "\n",
       "    .dataframe tbody tr th {\n",
       "        vertical-align: top;\n",
       "    }\n",
       "\n",
       "    .dataframe thead th {\n",
       "        text-align: right;\n",
       "    }\n",
       "</style>\n",
       "<table border=\"1\" class=\"dataframe\">\n",
       "  <thead>\n",
       "    <tr style=\"text-align: right;\">\n",
       "      <th></th>\n",
       "      <th>date_op</th>\n",
       "      <th>month</th>\n",
       "      <th>year</th>\n",
       "      <th>value</th>\n",
       "    </tr>\n",
       "  </thead>\n",
       "  <tbody>\n",
       "    <tr>\n",
       "      <th>0</th>\n",
       "      <td>2018-01-01</td>\n",
       "      <td>january</td>\n",
       "      <td>2018</td>\n",
       "      <td>3900</td>\n",
       "    </tr>\n",
       "    <tr>\n",
       "      <th>1</th>\n",
       "      <td>2018-02-01</td>\n",
       "      <td>february</td>\n",
       "      <td>2018</td>\n",
       "      <td>3975</td>\n",
       "    </tr>\n",
       "    <tr>\n",
       "      <th>2</th>\n",
       "      <td>2018-03-01</td>\n",
       "      <td>march</td>\n",
       "      <td>2018</td>\n",
       "      <td>3900</td>\n",
       "    </tr>\n",
       "    <tr>\n",
       "      <th>3</th>\n",
       "      <td>2018-04-01</td>\n",
       "      <td>april</td>\n",
       "      <td>2018</td>\n",
       "      <td>3900</td>\n",
       "    </tr>\n",
       "    <tr>\n",
       "      <th>4</th>\n",
       "      <td>2018-05-01</td>\n",
       "      <td>may</td>\n",
       "      <td>2018</td>\n",
       "      <td>3900</td>\n",
       "    </tr>\n",
       "  </tbody>\n",
       "</table>\n",
       "</div>"
      ],
      "text/plain": [
       "     date_op     month  year  value\n",
       "0 2018-01-01   january  2018   3900\n",
       "1 2018-02-01  february  2018   3975\n",
       "2 2018-03-01     march  2018   3900\n",
       "3 2018-04-01     april  2018   3900\n",
       "4 2018-05-01       may  2018   3900"
      ]
     },
     "execution_count": 111,
     "metadata": {},
     "output_type": "execute_result"
    }
   ],
   "source": [
    "# and by year and month: overwritting by the year\n",
    "inc_date = inc.groupby([inc['date_op'], inc['month'], inc['year']], as_index=False)\n",
    "\n",
    "# operations:\n",
    "# total income per month of the year\n",
    "inc_per_month = inc_date.sum()\n",
    "inc_per_month.head()"
   ]
  },
  {
   "cell_type": "code",
   "execution_count": 112,
   "metadata": {},
   "outputs": [
    {
     "data": {
      "text/html": [
       "<div>\n",
       "<style scoped>\n",
       "    .dataframe tbody tr th:only-of-type {\n",
       "        vertical-align: middle;\n",
       "    }\n",
       "\n",
       "    .dataframe tbody tr th {\n",
       "        vertical-align: top;\n",
       "    }\n",
       "\n",
       "    .dataframe thead th {\n",
       "        text-align: right;\n",
       "    }\n",
       "</style>\n",
       "<table border=\"1\" class=\"dataframe\">\n",
       "  <thead>\n",
       "    <tr style=\"text-align: right;\">\n",
       "      <th></th>\n",
       "      <th>year</th>\n",
       "      <th>source</th>\n",
       "      <th>value</th>\n",
       "    </tr>\n",
       "  </thead>\n",
       "  <tbody>\n",
       "    <tr>\n",
       "      <th>0</th>\n",
       "      <td>2018</td>\n",
       "      <td>freelance</td>\n",
       "      <td>495</td>\n",
       "    </tr>\n",
       "    <tr>\n",
       "      <th>1</th>\n",
       "      <td>2018</td>\n",
       "      <td>gov_benef</td>\n",
       "      <td>120</td>\n",
       "    </tr>\n",
       "    <tr>\n",
       "      <th>2</th>\n",
       "      <td>2018</td>\n",
       "      <td>salary</td>\n",
       "      <td>46800</td>\n",
       "    </tr>\n",
       "    <tr>\n",
       "      <th>3</th>\n",
       "      <td>2019</td>\n",
       "      <td>freelance</td>\n",
       "      <td>750</td>\n",
       "    </tr>\n",
       "    <tr>\n",
       "      <th>4</th>\n",
       "      <td>2019</td>\n",
       "      <td>gov_benef</td>\n",
       "      <td>200</td>\n",
       "    </tr>\n",
       "  </tbody>\n",
       "</table>\n",
       "</div>"
      ],
      "text/plain": [
       "   year     source  value\n",
       "0  2018  freelance    495\n",
       "1  2018  gov_benef    120\n",
       "2  2018     salary  46800\n",
       "3  2019  freelance    750\n",
       "4  2019  gov_benef    200"
      ]
     },
     "execution_count": 112,
     "metadata": {},
     "output_type": "execute_result"
    }
   ],
   "source": [
    "# 1.2.2 income grouped by date and sources\n",
    "\n",
    "# only by year first (and sources)\n",
    "inc_src = inc.groupby([inc['year'], inc['source']], as_index=False)\n",
    "\n",
    "# operations:\n",
    "# total income per year and source\n",
    "inc_per_ysrc = inc_src.sum()\n",
    "inc_per_ysrc.head()"
   ]
  },
  {
   "cell_type": "code",
   "execution_count": 113,
   "metadata": {},
   "outputs": [
    {
     "data": {
      "text/html": [
       "<div>\n",
       "<style scoped>\n",
       "    .dataframe tbody tr th:only-of-type {\n",
       "        vertical-align: middle;\n",
       "    }\n",
       "\n",
       "    .dataframe tbody tr th {\n",
       "        vertical-align: top;\n",
       "    }\n",
       "\n",
       "    .dataframe thead th {\n",
       "        text-align: right;\n",
       "    }\n",
       "</style>\n",
       "<table border=\"1\" class=\"dataframe\">\n",
       "  <thead>\n",
       "    <tr style=\"text-align: right;\">\n",
       "      <th></th>\n",
       "      <th>date_op</th>\n",
       "      <th>month</th>\n",
       "      <th>source</th>\n",
       "      <th>year</th>\n",
       "      <th>value</th>\n",
       "    </tr>\n",
       "  </thead>\n",
       "  <tbody>\n",
       "    <tr>\n",
       "      <th>0</th>\n",
       "      <td>2018-01-01</td>\n",
       "      <td>january</td>\n",
       "      <td>salary</td>\n",
       "      <td>2018</td>\n",
       "      <td>3900</td>\n",
       "    </tr>\n",
       "    <tr>\n",
       "      <th>1</th>\n",
       "      <td>2018-02-01</td>\n",
       "      <td>february</td>\n",
       "      <td>freelance</td>\n",
       "      <td>2018</td>\n",
       "      <td>75</td>\n",
       "    </tr>\n",
       "    <tr>\n",
       "      <th>2</th>\n",
       "      <td>2018-02-01</td>\n",
       "      <td>february</td>\n",
       "      <td>salary</td>\n",
       "      <td>2018</td>\n",
       "      <td>3900</td>\n",
       "    </tr>\n",
       "    <tr>\n",
       "      <th>3</th>\n",
       "      <td>2018-03-01</td>\n",
       "      <td>march</td>\n",
       "      <td>salary</td>\n",
       "      <td>2018</td>\n",
       "      <td>3900</td>\n",
       "    </tr>\n",
       "    <tr>\n",
       "      <th>4</th>\n",
       "      <td>2018-04-01</td>\n",
       "      <td>april</td>\n",
       "      <td>salary</td>\n",
       "      <td>2018</td>\n",
       "      <td>3900</td>\n",
       "    </tr>\n",
       "  </tbody>\n",
       "</table>\n",
       "</div>"
      ],
      "text/plain": [
       "     date_op     month     source  year  value\n",
       "0 2018-01-01   january     salary  2018   3900\n",
       "1 2018-02-01  february  freelance  2018     75\n",
       "2 2018-02-01  february     salary  2018   3900\n",
       "3 2018-03-01     march     salary  2018   3900\n",
       "4 2018-04-01     april     salary  2018   3900"
      ]
     },
     "execution_count": 113,
     "metadata": {},
     "output_type": "execute_result"
    }
   ],
   "source": [
    "# and by year, month and source\n",
    "# income grouped by year and sources\n",
    "inc_src = inc.groupby([inc['date_op'], inc['month'], inc['source'], inc['year']], as_index=False)\n",
    "\n",
    "# operation:\n",
    "# total monthly income per source\n",
    "inc_per_msrc = inc_src.sum()\n",
    "inc_per_msrc.head()"
   ]
  },
  {
   "cell_type": "markdown",
   "metadata": {},
   "source": [
    "## 2. Expenses"
   ]
  },
  {
   "cell_type": "markdown",
   "metadata": {},
   "source": [
    "### 2.1 Detailing the data:  Expenses"
   ]
  },
  {
   "cell_type": "code",
   "execution_count": 114,
   "metadata": {},
   "outputs": [],
   "source": [
    "# read data\n",
    "exp = pd.read_csv('expenses.csv', delimiter=';')\n",
    "\n",
    "# create auxiliar date column \n",
    "exp['date_op'] = pd.to_datetime(exp['year'].astype(str)  + exp['month'], format='%Y%B')\n",
    "# order by date:\n",
    "exp.sort_values('date_op', inplace=True)"
   ]
  },
  {
   "cell_type": "code",
   "execution_count": 115,
   "metadata": {},
   "outputs": [
    {
     "data": {
      "text/html": [
       "<div>\n",
       "<style scoped>\n",
       "    .dataframe tbody tr th:only-of-type {\n",
       "        vertical-align: middle;\n",
       "    }\n",
       "\n",
       "    .dataframe tbody tr th {\n",
       "        vertical-align: top;\n",
       "    }\n",
       "\n",
       "    .dataframe thead th {\n",
       "        text-align: right;\n",
       "    }\n",
       "</style>\n",
       "<table border=\"1\" class=\"dataframe\">\n",
       "  <thead>\n",
       "    <tr style=\"text-align: right;\">\n",
       "      <th></th>\n",
       "      <th>year</th>\n",
       "      <th>month</th>\n",
       "      <th>source</th>\n",
       "      <th>value</th>\n",
       "      <th>date_op</th>\n",
       "      <th>type</th>\n",
       "    </tr>\n",
       "  </thead>\n",
       "  <tbody>\n",
       "    <tr>\n",
       "      <th>54</th>\n",
       "      <td>2018</td>\n",
       "      <td>january</td>\n",
       "      <td>rent</td>\n",
       "      <td>1000</td>\n",
       "      <td>2018-01-01</td>\n",
       "      <td>fixed</td>\n",
       "    </tr>\n",
       "    <tr>\n",
       "      <th>86</th>\n",
       "      <td>2018</td>\n",
       "      <td>january</td>\n",
       "      <td>out_food</td>\n",
       "      <td>150</td>\n",
       "      <td>2018-01-01</td>\n",
       "      <td>variable</td>\n",
       "    </tr>\n",
       "    <tr>\n",
       "      <th>66</th>\n",
       "      <td>2018</td>\n",
       "      <td>january</td>\n",
       "      <td>medical</td>\n",
       "      <td>300</td>\n",
       "      <td>2018-01-01</td>\n",
       "      <td>variable</td>\n",
       "    </tr>\n",
       "    <tr>\n",
       "      <th>76</th>\n",
       "      <td>2018</td>\n",
       "      <td>january</td>\n",
       "      <td>mobility</td>\n",
       "      <td>100</td>\n",
       "      <td>2018-01-01</td>\n",
       "      <td>fixed</td>\n",
       "    </tr>\n",
       "    <tr>\n",
       "      <th>55</th>\n",
       "      <td>2018</td>\n",
       "      <td>february</td>\n",
       "      <td>rent</td>\n",
       "      <td>1000</td>\n",
       "      <td>2018-02-01</td>\n",
       "      <td>fixed</td>\n",
       "    </tr>\n",
       "  </tbody>\n",
       "</table>\n",
       "</div>"
      ],
      "text/plain": [
       "    year     month    source  value    date_op      type\n",
       "54  2018   january      rent   1000 2018-01-01     fixed\n",
       "86  2018   january  out_food    150 2018-01-01  variable\n",
       "66  2018   january   medical    300 2018-01-01  variable\n",
       "76  2018   january  mobility    100 2018-01-01     fixed\n",
       "55  2018  february      rent   1000 2018-02-01     fixed"
      ]
     },
     "execution_count": 115,
     "metadata": {},
     "output_type": "execute_result"
    }
   ],
   "source": [
    "# expenses grouped by type: fixed and variable\n",
    "# the nomenclature of this script matters.\n",
    "# see at the beginning the terms and classification: changes can be made!\n",
    "\n",
    "fxd_exp = ['rent', 'mobility', 'insurance', 'taxes', 'other_fixed']\n",
    "\n",
    "var_exp = ['groceries', 'utilities', 'medical', 'education', 'maint', 'entmt',\n",
    "           'out_food', 'other_var']\n",
    "\n",
    "exp['type'] = ['fixed' if x in fxd_exp else 'variable' for x in exp['source']]\n",
    "exp.head()"
   ]
  },
  {
   "cell_type": "markdown",
   "metadata": {},
   "source": [
    "### 2.2 Managing the data - operations to be done with expenses values"
   ]
  },
  {
   "cell_type": "code",
   "execution_count": null,
   "metadata": {},
   "outputs": [],
   "source": [
    "# 2.2.1 Group expenses by date\n",
    "# only by year first\n",
    "exp_date = exp.groupby([exp['year']], as_index=False)\n",
    "exp_date.head()\n",
    "\n",
    "# operation:\n",
    "# total expenses per year\n",
    "exp_per_year = exp_date.sum()\n",
    "exp_per_year.head()"
   ]
  },
  {
   "cell_type": "code",
   "execution_count": 116,
   "metadata": {},
   "outputs": [
    {
     "data": {
      "text/html": [
       "<div>\n",
       "<style scoped>\n",
       "    .dataframe tbody tr th:only-of-type {\n",
       "        vertical-align: middle;\n",
       "    }\n",
       "\n",
       "    .dataframe tbody tr th {\n",
       "        vertical-align: top;\n",
       "    }\n",
       "\n",
       "    .dataframe thead th {\n",
       "        text-align: right;\n",
       "    }\n",
       "</style>\n",
       "<table border=\"1\" class=\"dataframe\">\n",
       "  <thead>\n",
       "    <tr style=\"text-align: right;\">\n",
       "      <th></th>\n",
       "      <th>date_op</th>\n",
       "      <th>month</th>\n",
       "      <th>year</th>\n",
       "      <th>value</th>\n",
       "    </tr>\n",
       "  </thead>\n",
       "  <tbody>\n",
       "    <tr>\n",
       "      <th>0</th>\n",
       "      <td>2018-01-01</td>\n",
       "      <td>january</td>\n",
       "      <td>2018</td>\n",
       "      <td>1550</td>\n",
       "    </tr>\n",
       "    <tr>\n",
       "      <th>1</th>\n",
       "      <td>2018-02-01</td>\n",
       "      <td>february</td>\n",
       "      <td>2018</td>\n",
       "      <td>1465</td>\n",
       "    </tr>\n",
       "    <tr>\n",
       "      <th>2</th>\n",
       "      <td>2018-03-01</td>\n",
       "      <td>march</td>\n",
       "      <td>2018</td>\n",
       "      <td>1400</td>\n",
       "    </tr>\n",
       "    <tr>\n",
       "      <th>3</th>\n",
       "      <td>2018-04-01</td>\n",
       "      <td>april</td>\n",
       "      <td>2018</td>\n",
       "      <td>1600</td>\n",
       "    </tr>\n",
       "    <tr>\n",
       "      <th>4</th>\n",
       "      <td>2018-05-01</td>\n",
       "      <td>may</td>\n",
       "      <td>2018</td>\n",
       "      <td>1800</td>\n",
       "    </tr>\n",
       "  </tbody>\n",
       "</table>\n",
       "</div>"
      ],
      "text/plain": [
       "     date_op     month  year  value\n",
       "0 2018-01-01   january  2018   1550\n",
       "1 2018-02-01  february  2018   1465\n",
       "2 2018-03-01     march  2018   1400\n",
       "3 2018-04-01     april  2018   1600\n",
       "4 2018-05-01       may  2018   1800"
      ]
     },
     "execution_count": 116,
     "metadata": {},
     "output_type": "execute_result"
    }
   ],
   "source": [
    "# and by year and month:\n",
    "exp_date = exp.groupby([exp['date_op'], exp['month'], exp['year']], as_index=False)\n",
    "exp_date.head()\n",
    "\n",
    "# operations:\n",
    "# total expenses per month of the year\n",
    "exp_per_month = exp_date.sum()\n",
    "exp_per_month.head()"
   ]
  },
  {
   "cell_type": "code",
   "execution_count": 117,
   "metadata": {},
   "outputs": [
    {
     "data": {
      "text/html": [
       "<div>\n",
       "<style scoped>\n",
       "    .dataframe tbody tr th:only-of-type {\n",
       "        vertical-align: middle;\n",
       "    }\n",
       "\n",
       "    .dataframe tbody tr th {\n",
       "        vertical-align: top;\n",
       "    }\n",
       "\n",
       "    .dataframe thead th {\n",
       "        text-align: right;\n",
       "    }\n",
       "</style>\n",
       "<table border=\"1\" class=\"dataframe\">\n",
       "  <thead>\n",
       "    <tr style=\"text-align: right;\">\n",
       "      <th></th>\n",
       "      <th>year</th>\n",
       "      <th>source</th>\n",
       "      <th>value</th>\n",
       "    </tr>\n",
       "  </thead>\n",
       "  <tbody>\n",
       "    <tr>\n",
       "      <th>0</th>\n",
       "      <td>2018</td>\n",
       "      <td>education</td>\n",
       "      <td>800</td>\n",
       "    </tr>\n",
       "    <tr>\n",
       "      <th>1</th>\n",
       "      <td>2018</td>\n",
       "      <td>entmt</td>\n",
       "      <td>480</td>\n",
       "    </tr>\n",
       "    <tr>\n",
       "      <th>2</th>\n",
       "      <td>2018</td>\n",
       "      <td>insurance</td>\n",
       "      <td>1000</td>\n",
       "    </tr>\n",
       "    <tr>\n",
       "      <th>3</th>\n",
       "      <td>2018</td>\n",
       "      <td>medical</td>\n",
       "      <td>3600</td>\n",
       "    </tr>\n",
       "    <tr>\n",
       "      <th>4</th>\n",
       "      <td>2018</td>\n",
       "      <td>mobility</td>\n",
       "      <td>3100</td>\n",
       "    </tr>\n",
       "  </tbody>\n",
       "</table>\n",
       "</div>"
      ],
      "text/plain": [
       "   year     source  value\n",
       "0  2018  education    800\n",
       "1  2018      entmt    480\n",
       "2  2018  insurance   1000\n",
       "3  2018    medical   3600\n",
       "4  2018   mobility   3100"
      ]
     },
     "execution_count": 117,
     "metadata": {},
     "output_type": "execute_result"
    }
   ],
   "source": [
    "# 2.2.2 Group expenses by date and sources\n",
    "# only by year first\n",
    "exp_src = exp.groupby([exp['year'], exp['source']], as_index=False)\n",
    "\n",
    "# operations:\n",
    "# total expenses per year and source\n",
    "exp_per_ysrc = exp_src.sum()\n",
    "exp_per_ysrc.head()"
   ]
  },
  {
   "cell_type": "code",
   "execution_count": 118,
   "metadata": {},
   "outputs": [
    {
     "data": {
      "text/html": [
       "<div>\n",
       "<style scoped>\n",
       "    .dataframe tbody tr th:only-of-type {\n",
       "        vertical-align: middle;\n",
       "    }\n",
       "\n",
       "    .dataframe tbody tr th {\n",
       "        vertical-align: top;\n",
       "    }\n",
       "\n",
       "    .dataframe thead th {\n",
       "        text-align: right;\n",
       "    }\n",
       "</style>\n",
       "<table border=\"1\" class=\"dataframe\">\n",
       "  <thead>\n",
       "    <tr style=\"text-align: right;\">\n",
       "      <th></th>\n",
       "      <th>date_op</th>\n",
       "      <th>month</th>\n",
       "      <th>source</th>\n",
       "      <th>year</th>\n",
       "      <th>value</th>\n",
       "    </tr>\n",
       "  </thead>\n",
       "  <tbody>\n",
       "    <tr>\n",
       "      <th>0</th>\n",
       "      <td>2018-01-01</td>\n",
       "      <td>january</td>\n",
       "      <td>medical</td>\n",
       "      <td>2018</td>\n",
       "      <td>300</td>\n",
       "    </tr>\n",
       "    <tr>\n",
       "      <th>1</th>\n",
       "      <td>2018-01-01</td>\n",
       "      <td>january</td>\n",
       "      <td>mobility</td>\n",
       "      <td>2018</td>\n",
       "      <td>100</td>\n",
       "    </tr>\n",
       "    <tr>\n",
       "      <th>2</th>\n",
       "      <td>2018-01-01</td>\n",
       "      <td>january</td>\n",
       "      <td>out_food</td>\n",
       "      <td>2018</td>\n",
       "      <td>150</td>\n",
       "    </tr>\n",
       "    <tr>\n",
       "      <th>3</th>\n",
       "      <td>2018-01-01</td>\n",
       "      <td>january</td>\n",
       "      <td>rent</td>\n",
       "      <td>2018</td>\n",
       "      <td>1000</td>\n",
       "    </tr>\n",
       "    <tr>\n",
       "      <th>4</th>\n",
       "      <td>2018-02-01</td>\n",
       "      <td>february</td>\n",
       "      <td>medical</td>\n",
       "      <td>2018</td>\n",
       "      <td>300</td>\n",
       "    </tr>\n",
       "  </tbody>\n",
       "</table>\n",
       "</div>"
      ],
      "text/plain": [
       "     date_op     month    source  year  value\n",
       "0 2018-01-01   january   medical  2018    300\n",
       "1 2018-01-01   january  mobility  2018    100\n",
       "2 2018-01-01   january  out_food  2018    150\n",
       "3 2018-01-01   january      rent  2018   1000\n",
       "4 2018-02-01  february   medical  2018    300"
      ]
     },
     "execution_count": 118,
     "metadata": {},
     "output_type": "execute_result"
    }
   ],
   "source": [
    "# and by year, month and source\n",
    "# expenses grouped by year and sources\n",
    "exp_src = exp.groupby([exp['date_op'], exp['month'], exp['source'], exp['year']], as_index=False)\n",
    "\n",
    "# operation:\n",
    "# total monthly expenses per source\n",
    "exp_per_msrc = exp_src.sum()\n",
    "exp_per_msrc.head()"
   ]
  },
  {
   "cell_type": "code",
   "execution_count": 119,
   "metadata": {},
   "outputs": [
    {
     "data": {
      "text/html": [
       "<div>\n",
       "<style scoped>\n",
       "    .dataframe tbody tr th:only-of-type {\n",
       "        vertical-align: middle;\n",
       "    }\n",
       "\n",
       "    .dataframe tbody tr th {\n",
       "        vertical-align: top;\n",
       "    }\n",
       "\n",
       "    .dataframe thead th {\n",
       "        text-align: right;\n",
       "    }\n",
       "</style>\n",
       "<table border=\"1\" class=\"dataframe\">\n",
       "  <thead>\n",
       "    <tr style=\"text-align: right;\">\n",
       "      <th></th>\n",
       "      <th>year</th>\n",
       "      <th>type</th>\n",
       "      <th>value</th>\n",
       "    </tr>\n",
       "  </thead>\n",
       "  <tbody>\n",
       "    <tr>\n",
       "      <th>0</th>\n",
       "      <td>2018</td>\n",
       "      <td>fixed</td>\n",
       "      <td>16100</td>\n",
       "    </tr>\n",
       "    <tr>\n",
       "      <th>1</th>\n",
       "      <td>2018</td>\n",
       "      <td>variable</td>\n",
       "      <td>6010</td>\n",
       "    </tr>\n",
       "    <tr>\n",
       "      <th>2</th>\n",
       "      <td>2019</td>\n",
       "      <td>fixed</td>\n",
       "      <td>16500</td>\n",
       "    </tr>\n",
       "    <tr>\n",
       "      <th>3</th>\n",
       "      <td>2019</td>\n",
       "      <td>variable</td>\n",
       "      <td>8345</td>\n",
       "    </tr>\n",
       "  </tbody>\n",
       "</table>\n",
       "</div>"
      ],
      "text/plain": [
       "   year      type  value\n",
       "0  2018     fixed  16100\n",
       "1  2018  variable   6010\n",
       "2  2019     fixed  16500\n",
       "3  2019  variable   8345"
      ]
     },
     "execution_count": 119,
     "metadata": {},
     "output_type": "execute_result"
    }
   ],
   "source": [
    "# 2.2.3 Group expenses by date and type (fixed or variable)\n",
    "# only by year first\n",
    "exp_typ = exp.groupby([exp['year'], exp['type']], as_index=False)\n",
    "\n",
    "# operations:\n",
    "# total expenses per year and source\n",
    "exp_per_ytyp = exp_typ.sum()\n",
    "exp_per_ytyp.head()"
   ]
  },
  {
   "cell_type": "code",
   "execution_count": 120,
   "metadata": {},
   "outputs": [
    {
     "data": {
      "text/html": [
       "<div>\n",
       "<style scoped>\n",
       "    .dataframe tbody tr th:only-of-type {\n",
       "        vertical-align: middle;\n",
       "    }\n",
       "\n",
       "    .dataframe tbody tr th {\n",
       "        vertical-align: top;\n",
       "    }\n",
       "\n",
       "    .dataframe thead th {\n",
       "        text-align: right;\n",
       "    }\n",
       "</style>\n",
       "<table border=\"1\" class=\"dataframe\">\n",
       "  <thead>\n",
       "    <tr style=\"text-align: right;\">\n",
       "      <th></th>\n",
       "      <th>date_op</th>\n",
       "      <th>month</th>\n",
       "      <th>type</th>\n",
       "      <th>year</th>\n",
       "      <th>value</th>\n",
       "    </tr>\n",
       "  </thead>\n",
       "  <tbody>\n",
       "    <tr>\n",
       "      <th>0</th>\n",
       "      <td>2018-01-01</td>\n",
       "      <td>january</td>\n",
       "      <td>fixed</td>\n",
       "      <td>2018</td>\n",
       "      <td>1100</td>\n",
       "    </tr>\n",
       "    <tr>\n",
       "      <th>1</th>\n",
       "      <td>2018-01-01</td>\n",
       "      <td>january</td>\n",
       "      <td>variable</td>\n",
       "      <td>2018</td>\n",
       "      <td>450</td>\n",
       "    </tr>\n",
       "    <tr>\n",
       "      <th>2</th>\n",
       "      <td>2018-02-01</td>\n",
       "      <td>february</td>\n",
       "      <td>fixed</td>\n",
       "      <td>2018</td>\n",
       "      <td>1100</td>\n",
       "    </tr>\n",
       "    <tr>\n",
       "      <th>3</th>\n",
       "      <td>2018-02-01</td>\n",
       "      <td>february</td>\n",
       "      <td>variable</td>\n",
       "      <td>2018</td>\n",
       "      <td>365</td>\n",
       "    </tr>\n",
       "    <tr>\n",
       "      <th>4</th>\n",
       "      <td>2018-03-01</td>\n",
       "      <td>march</td>\n",
       "      <td>fixed</td>\n",
       "      <td>2018</td>\n",
       "      <td>1100</td>\n",
       "    </tr>\n",
       "  </tbody>\n",
       "</table>\n",
       "</div>"
      ],
      "text/plain": [
       "     date_op     month      type  year  value\n",
       "0 2018-01-01   january     fixed  2018   1100\n",
       "1 2018-01-01   january  variable  2018    450\n",
       "2 2018-02-01  february     fixed  2018   1100\n",
       "3 2018-02-01  february  variable  2018    365\n",
       "4 2018-03-01     march     fixed  2018   1100"
      ]
     },
     "execution_count": 120,
     "metadata": {},
     "output_type": "execute_result"
    }
   ],
   "source": [
    "# and by year, month and type\n",
    "# expenses grouped by year and types\n",
    "exp_typ = exp.groupby([exp['date_op'], exp['month'], exp['type'], exp['year']], as_index=False)\n",
    "\n",
    "# operation:\n",
    "# total monthly expenses per source\n",
    "exp_per_mtyp = exp_typ.sum()\n",
    "exp_per_mtyp.head()"
   ]
  },
  {
   "cell_type": "markdown",
   "metadata": {},
   "source": [
    "## 3. Balance"
   ]
  },
  {
   "cell_type": "code",
   "execution_count": 121,
   "metadata": {},
   "outputs": [],
   "source": [
    "# dataframes used:\n",
    "# inc_per_year, inc_per_month\n",
    "\n",
    "# What was calculated:\n",
    "# 1. Balance of income (annual and monthly): absolute diff of income between current and previous month\n",
    "# 2. Balance of expenses (annual and monthly): idem (for expenses values)\n",
    "# 3. Overall balance: income - expenses"
   ]
  },
  {
   "cell_type": "code",
   "execution_count": 122,
   "metadata": {},
   "outputs": [
    {
     "data": {
      "text/html": [
       "<div>\n",
       "<style scoped>\n",
       "    .dataframe tbody tr th:only-of-type {\n",
       "        vertical-align: middle;\n",
       "    }\n",
       "\n",
       "    .dataframe tbody tr th {\n",
       "        vertical-align: top;\n",
       "    }\n",
       "\n",
       "    .dataframe thead th {\n",
       "        text-align: right;\n",
       "    }\n",
       "</style>\n",
       "<table border=\"1\" class=\"dataframe\">\n",
       "  <thead>\n",
       "    <tr style=\"text-align: right;\">\n",
       "      <th></th>\n",
       "      <th>year</th>\n",
       "      <th>value</th>\n",
       "    </tr>\n",
       "  </thead>\n",
       "  <tbody>\n",
       "    <tr>\n",
       "      <th>0</th>\n",
       "      <td>2018</td>\n",
       "      <td>47415</td>\n",
       "    </tr>\n",
       "    <tr>\n",
       "      <th>1</th>\n",
       "      <td>2019</td>\n",
       "      <td>48950</td>\n",
       "    </tr>\n",
       "  </tbody>\n",
       "</table>\n",
       "</div>"
      ],
      "text/plain": [
       "   year  value\n",
       "0  2018  47415\n",
       "1  2019  48950"
      ]
     },
     "execution_count": 122,
     "metadata": {},
     "output_type": "execute_result"
    }
   ],
   "source": [
    "# 3.1\n",
    "# Income year:\n",
    "inc_per_year.sort_values('year', inplace=True)\n",
    "inc_per_year.head()"
   ]
  },
  {
   "cell_type": "code",
   "execution_count": 123,
   "metadata": {},
   "outputs": [],
   "source": [
    "# yib = year income balance\n",
    "for i in range(1, len(inc_per_year)):\n",
    "    yib = inc_per_year.value - inc_per_year.value.shift(1)\n",
    "    inc_per_year['yib'] = yib\n",
    "\n",
    "# mib = month income balance\n",
    "for i in range(1, len(inc_per_month)):\n",
    "    mib = inc_per_month.value - inc_per_month.value.shift(1)\n",
    "    inc_per_month['mib'] = mib"
   ]
  },
  {
   "cell_type": "code",
   "execution_count": 124,
   "metadata": {},
   "outputs": [
    {
     "data": {
      "text/html": [
       "<div>\n",
       "<style scoped>\n",
       "    .dataframe tbody tr th:only-of-type {\n",
       "        vertical-align: middle;\n",
       "    }\n",
       "\n",
       "    .dataframe tbody tr th {\n",
       "        vertical-align: top;\n",
       "    }\n",
       "\n",
       "    .dataframe thead th {\n",
       "        text-align: right;\n",
       "    }\n",
       "</style>\n",
       "<table border=\"1\" class=\"dataframe\">\n",
       "  <thead>\n",
       "    <tr style=\"text-align: right;\">\n",
       "      <th></th>\n",
       "      <th>year</th>\n",
       "      <th>value</th>\n",
       "    </tr>\n",
       "  </thead>\n",
       "  <tbody>\n",
       "    <tr>\n",
       "      <th>0</th>\n",
       "      <td>108972</td>\n",
       "      <td>22110</td>\n",
       "    </tr>\n",
       "    <tr>\n",
       "      <th>1</th>\n",
       "      <td>109026</td>\n",
       "      <td>24845</td>\n",
       "    </tr>\n",
       "  </tbody>\n",
       "</table>\n",
       "</div>"
      ],
      "text/plain": [
       "     year  value\n",
       "0  108972  22110\n",
       "1  109026  24845"
      ]
     },
     "execution_count": 124,
     "metadata": {},
     "output_type": "execute_result"
    }
   ],
   "source": [
    "# 3.2\n",
    "# Expenses year:\n",
    "exp_per_year.sort_values('year', inplace=True)\n",
    "exp_per_year.head()"
   ]
  },
  {
   "cell_type": "code",
   "execution_count": 125,
   "metadata": {},
   "outputs": [],
   "source": [
    "# yeb = year expenses balance\n",
    "for i in range(1, len(exp_per_year)):\n",
    "    yeb = exp_per_year.value - exp_per_year.value.shift(1)\n",
    "    exp_per_year['yeb'] = yeb\n",
    "\n",
    "# meb = month expenses balance\n",
    "for i in range(1, len(exp_per_month)):\n",
    "    meb = exp_per_month.value - exp_per_month.value.shift(1)\n",
    "    exp_per_month['meb'] = meb"
   ]
  },
  {
   "cell_type": "code",
   "execution_count": 126,
   "metadata": {},
   "outputs": [],
   "source": [
    "# 3.3\n",
    "# overall monthly balance - (not considering sources)\n",
    "# inc_per_month - exp_per_mon\n",
    "gen_bal = inc_per_month['value'] - exp_per_month['value']"
   ]
  },
  {
   "cell_type": "code",
   "execution_count": 127,
   "metadata": {},
   "outputs": [],
   "source": [
    "# appending the overall monthly balance to exp_per_month dataframe:\n",
    "exp_per_month['gen_bal'] = gen_bal"
   ]
  },
  {
   "cell_type": "markdown",
   "metadata": {},
   "source": [
    "## 5. Export results"
   ]
  },
  {
   "cell_type": "code",
   "execution_count": 128,
   "metadata": {},
   "outputs": [],
   "source": [
    "# what to export: (all dfs):\n",
    "# inc_per_year, inc_per_month, inc_per_ysrc, inc_per_msrc\n",
    "# exp_per_year, exp_per_month, exp_per_ysrc, exp_per_msrc, exp_per_ytyp, exp_per_mtyp\n",
    "# using module XlsxWriter and pandas"
   ]
  },
  {
   "cell_type": "code",
   "execution_count": 129,
   "metadata": {},
   "outputs": [],
   "source": [
    "# export income and its balances:\n",
    "writer = pd.ExcelWriter('income_bal.xlsx', engine='xlsxwriter')\n",
    "inc_per_year.to_excel(writer, sheet_name='year_bal')\n",
    "inc_per_month.to_excel(writer, sheet_name='month_bal')\n",
    "inc_per_ysrc.to_excel(writer, sheet_name='source_year')\n",
    "inc_per_msrc.to_excel(writer, sheet_name='source_month')\n",
    "writer.save()"
   ]
  },
  {
   "cell_type": "code",
   "execution_count": 130,
   "metadata": {},
   "outputs": [],
   "source": [
    "# export expenses. its balances and general balance:\n",
    "writer = pd.ExcelWriter('expenses_bal.xlsx', engine='xlsxwriter')\n",
    "exp_per_year.to_excel(writer, sheet_name='year_bal')\n",
    "exp_per_month.to_excel(writer, sheet_name='month_bal')\n",
    "exp_per_ysrc.to_excel(writer, sheet_name='source_year')\n",
    "exp_per_msrc.to_excel(writer, sheet_name='source_month')\n",
    "exp_per_ytyp.to_excel(writer, sheet_name='type_year')\n",
    "exp_per_mtyp.to_excel(writer, sheet_name='type_month')\n",
    "writer.save()"
   ]
  }
 ],
 "metadata": {
  "kernelspec": {
   "display_name": "Python 3",
   "language": "python",
   "name": "python3"
  },
  "language_info": {
   "codemirror_mode": {
    "name": "ipython",
    "version": 3
   },
   "file_extension": ".py",
   "mimetype": "text/x-python",
   "name": "python",
   "nbconvert_exporter": "python",
   "pygments_lexer": "ipython3",
   "version": "3.7.4"
  }
 },
 "nbformat": 4,
 "nbformat_minor": 2
}
